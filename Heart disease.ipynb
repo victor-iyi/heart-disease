{
 "cells": [
  {
   "cell_type": "markdown",
   "id": "09dd4cda",
   "metadata": {},
   "source": [
    "# Heart Disease\n",
    "\n",
    "> Write your abstract here...\n",
    "\n",
    "End it with a prologue into the model/solution you're building to solve this problem."
   ]
  },
  {
   "cell_type": "code",
   "execution_count": null,
   "id": "f3b14217",
   "metadata": {},
   "outputs": [],
   "source": [
    "import heart_disease\n",
    "from heart_disease import train\n",
    "from heart_disease.config import FS"
   ]
  },
  {
   "cell_type": "code",
   "execution_count": null,
   "id": "8a6696bb",
   "metadata": {},
   "outputs": [],
   "source": [
    "# Arguments.\n",
    "model_dir = FS.SAVED_MODELS\n",
    "selected_model = 'all'  # all, svm, knn, dt, nb\n",
    "filename = f'{FS.DATA_DIR}/heart.csv'\n",
    "test_size = 0.2"
   ]
  },
  {
   "cell_type": "markdown",
   "id": "59c993b7",
   "metadata": {},
   "source": [
    "## Train Model(s)"
   ]
  },
  {
   "cell_type": "code",
   "execution_count": null,
   "id": "0844932d",
   "metadata": {},
   "outputs": [],
   "source": [
    "# Train all models at once or a single model.\n",
    "if selected_model.lower() == 'all':\n",
    "    # Train all models.\n",
    "    train.train_all(\n",
    "        filename=filename,\n",
    "        test_size=test_size\n",
    "    )\n",
    "else:\n",
    "    # Select model to train.\n",
    "    model_name = {\n",
    "        'svm': 'Support Vector Machine',\n",
    "        'nb': 'Naive Bayes',\n",
    "        'dt': 'Decision Trees',\n",
    "        'knn': 'K-Nearest Neighbors',\n",
    "    }[selected_model]\n",
    "    \n",
    "    # Train selected model.\n",
    "    train.train_model(\n",
    "        model_name=model_name,\n",
    "        filename=filename,\n",
    "        test_size=test_size\n",
    "    )"
   ]
  },
  {
   "cell_type": "code",
   "execution_count": null,
   "id": "4d7c0372",
   "metadata": {},
   "outputs": [],
   "source": []
  }
 ],
 "metadata": {
  "kernelspec": {
   "display_name": "Python 3",
   "language": "python",
   "name": "python3"
  },
  "language_info": {
   "codemirror_mode": {
    "name": "ipython",
    "version": 3
   },
   "file_extension": ".py",
   "mimetype": "text/x-python",
   "name": "python",
   "nbconvert_exporter": "python",
   "pygments_lexer": "ipython3",
   "version": "3.9.5"
  }
 },
 "nbformat": 4,
 "nbformat_minor": 5
}
